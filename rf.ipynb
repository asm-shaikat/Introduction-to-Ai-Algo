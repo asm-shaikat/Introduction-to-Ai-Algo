{
 "cells": [
  {
   "cell_type": "code",
   "execution_count": 50,
   "metadata": {},
   "outputs": [],
   "source": [
    "import pandas as pd\n",
    "import numpy as np\n",
    "from sklearn.model_selection import train_test_split\n",
    "from sklearn.preprocessing import StandardScaler,LabelEncoder\n",
    "from sklearn.ensemble import RandomForestRegressor\n",
    "from sklearn import metrics\n",
    "from keras.models import Sequential\n",
    "from keras.layers import Dense\n",
    "from sklearn.metrics import confusion_matrix\n",
    "from sklearn.preprocessing import OneHotEncoder"
   ]
  },
  {
   "cell_type": "code",
   "execution_count": 51,
   "metadata": {},
   "outputs": [
    {
     "data": {
      "text/html": [
       "<div>\n",
       "<style scoped>\n",
       "    .dataframe tbody tr th:only-of-type {\n",
       "        vertical-align: middle;\n",
       "    }\n",
       "\n",
       "    .dataframe tbody tr th {\n",
       "        vertical-align: top;\n",
       "    }\n",
       "\n",
       "    .dataframe thead th {\n",
       "        text-align: right;\n",
       "    }\n",
       "</style>\n",
       "<table border=\"1\" class=\"dataframe\">\n",
       "  <thead>\n",
       "    <tr style=\"text-align: right;\">\n",
       "      <th></th>\n",
       "      <th>Col1</th>\n",
       "      <th>Col2</th>\n",
       "      <th>Col3</th>\n",
       "      <th>Col4</th>\n",
       "      <th>Col5</th>\n",
       "      <th>Col6</th>\n",
       "      <th>Class</th>\n",
       "    </tr>\n",
       "  </thead>\n",
       "  <tbody>\n",
       "    <tr>\n",
       "      <th>0</th>\n",
       "      <td>6</td>\n",
       "      <td>Chevrolet</td>\n",
       "      <td>31</td>\n",
       "      <td>Male</td>\n",
       "      <td>679</td>\n",
       "      <td>76960</td>\n",
       "      <td>Rich</td>\n",
       "    </tr>\n",
       "    <tr>\n",
       "      <th>1</th>\n",
       "      <td>8</td>\n",
       "      <td>BMW</td>\n",
       "      <td>51</td>\n",
       "      <td>Male</td>\n",
       "      <td>883</td>\n",
       "      <td>89304</td>\n",
       "      <td>Rich</td>\n",
       "    </tr>\n",
       "    <tr>\n",
       "      <th>2</th>\n",
       "      <td>7</td>\n",
       "      <td>Honda</td>\n",
       "      <td>45</td>\n",
       "      <td>Male</td>\n",
       "      <td>911</td>\n",
       "      <td>77018</td>\n",
       "      <td>Upper Middle Class</td>\n",
       "    </tr>\n",
       "    <tr>\n",
       "      <th>3</th>\n",
       "      <td>8</td>\n",
       "      <td>BMW</td>\n",
       "      <td>59</td>\n",
       "      <td>Female</td>\n",
       "      <td>1675</td>\n",
       "      <td>26160</td>\n",
       "      <td>Middle Class</td>\n",
       "    </tr>\n",
       "    <tr>\n",
       "      <th>4</th>\n",
       "      <td>10</td>\n",
       "      <td>Chevrolet</td>\n",
       "      <td>44</td>\n",
       "      <td>Male</td>\n",
       "      <td>1040</td>\n",
       "      <td>82055</td>\n",
       "      <td>Middle Class</td>\n",
       "    </tr>\n",
       "  </tbody>\n",
       "</table>\n",
       "</div>"
      ],
      "text/plain": [
       "   Col1       Col2  Col3    Col4  Col5   Col6               Class\n",
       "0     6  Chevrolet    31    Male   679  76960                Rich\n",
       "1     8        BMW    51    Male   883  89304                Rich\n",
       "2     7      Honda    45    Male   911  77018  Upper Middle Class\n",
       "3     8        BMW    59  Female  1675  26160        Middle Class\n",
       "4    10  Chevrolet    44    Male  1040  82055        Middle Class"
      ]
     },
     "execution_count": 51,
     "metadata": {},
     "output_type": "execute_result"
    }
   ],
   "source": [
    "dataset = pd.read_csv('dataset2.csv')\n",
    "dataset.head()"
   ]
  },
  {
   "cell_type": "code",
   "execution_count": 52,
   "metadata": {},
   "outputs": [
    {
     "data": {
      "text/html": [
       "<div>\n",
       "<style scoped>\n",
       "    .dataframe tbody tr th:only-of-type {\n",
       "        vertical-align: middle;\n",
       "    }\n",
       "\n",
       "    .dataframe tbody tr th {\n",
       "        vertical-align: top;\n",
       "    }\n",
       "\n",
       "    .dataframe thead th {\n",
       "        text-align: right;\n",
       "    }\n",
       "</style>\n",
       "<table border=\"1\" class=\"dataframe\">\n",
       "  <thead>\n",
       "    <tr style=\"text-align: right;\">\n",
       "      <th></th>\n",
       "      <th>Col1</th>\n",
       "      <th>Col2</th>\n",
       "      <th>Col3</th>\n",
       "      <th>Col4</th>\n",
       "      <th>Col5</th>\n",
       "      <th>Col6</th>\n",
       "    </tr>\n",
       "  </thead>\n",
       "  <tbody>\n",
       "    <tr>\n",
       "      <th>0</th>\n",
       "      <td>6</td>\n",
       "      <td>Chevrolet</td>\n",
       "      <td>31</td>\n",
       "      <td>Male</td>\n",
       "      <td>679</td>\n",
       "      <td>76960</td>\n",
       "    </tr>\n",
       "    <tr>\n",
       "      <th>1</th>\n",
       "      <td>8</td>\n",
       "      <td>BMW</td>\n",
       "      <td>51</td>\n",
       "      <td>Male</td>\n",
       "      <td>883</td>\n",
       "      <td>89304</td>\n",
       "    </tr>\n",
       "    <tr>\n",
       "      <th>2</th>\n",
       "      <td>7</td>\n",
       "      <td>Honda</td>\n",
       "      <td>45</td>\n",
       "      <td>Male</td>\n",
       "      <td>911</td>\n",
       "      <td>77018</td>\n",
       "    </tr>\n",
       "    <tr>\n",
       "      <th>3</th>\n",
       "      <td>8</td>\n",
       "      <td>BMW</td>\n",
       "      <td>59</td>\n",
       "      <td>Female</td>\n",
       "      <td>1675</td>\n",
       "      <td>26160</td>\n",
       "    </tr>\n",
       "    <tr>\n",
       "      <th>4</th>\n",
       "      <td>10</td>\n",
       "      <td>Chevrolet</td>\n",
       "      <td>44</td>\n",
       "      <td>Male</td>\n",
       "      <td>1040</td>\n",
       "      <td>82055</td>\n",
       "    </tr>\n",
       "    <tr>\n",
       "      <th>...</th>\n",
       "      <td>...</td>\n",
       "      <td>...</td>\n",
       "      <td>...</td>\n",
       "      <td>...</td>\n",
       "      <td>...</td>\n",
       "      <td>...</td>\n",
       "    </tr>\n",
       "    <tr>\n",
       "      <th>995</th>\n",
       "      <td>10</td>\n",
       "      <td>Honda</td>\n",
       "      <td>77</td>\n",
       "      <td>Male</td>\n",
       "      <td>606</td>\n",
       "      <td>70132</td>\n",
       "    </tr>\n",
       "    <tr>\n",
       "      <th>996</th>\n",
       "      <td>3</td>\n",
       "      <td>BMW</td>\n",
       "      <td>74</td>\n",
       "      <td>Male</td>\n",
       "      <td>1850</td>\n",
       "      <td>83876</td>\n",
       "    </tr>\n",
       "    <tr>\n",
       "      <th>997</th>\n",
       "      <td>3</td>\n",
       "      <td>Chevrolet</td>\n",
       "      <td>86</td>\n",
       "      <td>Male</td>\n",
       "      <td>913</td>\n",
       "      <td>71429</td>\n",
       "    </tr>\n",
       "    <tr>\n",
       "      <th>998</th>\n",
       "      <td>10</td>\n",
       "      <td>BMW</td>\n",
       "      <td>58</td>\n",
       "      <td>Male</td>\n",
       "      <td>1828</td>\n",
       "      <td>69289</td>\n",
       "    </tr>\n",
       "    <tr>\n",
       "      <th>999</th>\n",
       "      <td>1</td>\n",
       "      <td>Toyota</td>\n",
       "      <td>49</td>\n",
       "      <td>Male</td>\n",
       "      <td>1746</td>\n",
       "      <td>96361</td>\n",
       "    </tr>\n",
       "  </tbody>\n",
       "</table>\n",
       "<p>1000 rows × 6 columns</p>\n",
       "</div>"
      ],
      "text/plain": [
       "     Col1       Col2  Col3    Col4  Col5   Col6\n",
       "0       6  Chevrolet    31    Male   679  76960\n",
       "1       8        BMW    51    Male   883  89304\n",
       "2       7      Honda    45    Male   911  77018\n",
       "3       8        BMW    59  Female  1675  26160\n",
       "4      10  Chevrolet    44    Male  1040  82055\n",
       "..    ...        ...   ...     ...   ...    ...\n",
       "995    10      Honda    77    Male   606  70132\n",
       "996     3        BMW    74    Male  1850  83876\n",
       "997     3  Chevrolet    86    Male   913  71429\n",
       "998    10        BMW    58    Male  1828  69289\n",
       "999     1     Toyota    49    Male  1746  96361\n",
       "\n",
       "[1000 rows x 6 columns]"
      ]
     },
     "execution_count": 52,
     "metadata": {},
     "output_type": "execute_result"
    }
   ],
   "source": [
    "X = dataset.iloc[:,:-1] \n",
    "y = dataset.iloc[:,-1:]\n",
    "X"
   ]
  },
  {
   "cell_type": "code",
   "execution_count": 53,
   "metadata": {},
   "outputs": [
    {
     "name": "stderr",
     "output_type": "stream",
     "text": [
      "C:\\Users\\User\\AppData\\Local\\Temp\\ipykernel_3592\\1020965164.py:3: FutureWarning: In a future version, `df.iloc[:, i] = newvals` will attempt to set the values inplace instead of always setting a new array. To retain the old behavior, use either `df[df.columns[i]] = newvals` or, if columns are non-unique, `df.isetitem(i, newvals)`\n",
      "  X.iloc[:,1:2] = labelencoder_X.fit_transform(z.values.ravel())\n"
     ]
    }
   ],
   "source": [
    "labelencoder_X=LabelEncoder()\n",
    "z = X.iloc[:,1:2]  \n",
    "X.iloc[:,1:2] = labelencoder_X.fit_transform(z.values.ravel())"
   ]
  },
  {
   "cell_type": "code",
   "execution_count": 54,
   "metadata": {},
   "outputs": [
    {
     "name": "stderr",
     "output_type": "stream",
     "text": [
      "C:\\Users\\User\\AppData\\Local\\Temp\\ipykernel_3592\\2252864314.py:3: FutureWarning: In a future version, `df.iloc[:, i] = newvals` will attempt to set the values inplace instead of always setting a new array. To retain the old behavior, use either `df[df.columns[i]] = newvals` or, if columns are non-unique, `df.isetitem(i, newvals)`\n",
      "  X.iloc[:,3:4] = labelencoder_X.fit_transform(z.values.ravel())\n"
     ]
    }
   ],
   "source": [
    "labelencoder_X=LabelEncoder()\n",
    "z = X.iloc[:,3:4]  \n",
    "X.iloc[:,3:4] = labelencoder_X.fit_transform(z.values.ravel())"
   ]
  },
  {
   "cell_type": "code",
   "execution_count": 55,
   "metadata": {},
   "outputs": [
    {
     "name": "stderr",
     "output_type": "stream",
     "text": [
      "C:\\Users\\User\\AppData\\Roaming\\Python\\Python310\\site-packages\\sklearn\\preprocessing\\_label.py:98: DataConversionWarning: A column-vector y was passed when a 1d array was expected. Please change the shape of y to (n_samples, ), for example using ravel().\n",
      "  y = column_or_1d(y, warn=True)\n",
      "C:\\Users\\User\\AppData\\Roaming\\Python\\Python310\\site-packages\\sklearn\\preprocessing\\_label.py:133: DataConversionWarning: A column-vector y was passed when a 1d array was expected. Please change the shape of y to (n_samples, ), for example using ravel().\n",
      "  y = column_or_1d(y, warn=True)\n"
     ]
    }
   ],
   "source": [
    "encoder = LabelEncoder()\n",
    "encoder.fit(y)\n",
    "y = encoder.transform(y)"
   ]
  },
  {
   "cell_type": "code",
   "execution_count": 56,
   "metadata": {},
   "outputs": [],
   "source": [
    "X_train, X_test, y_train, y_test = train_test_split(X, y, test_size=0.2, random_state=1)"
   ]
  },
  {
   "cell_type": "code",
   "execution_count": 57,
   "metadata": {},
   "outputs": [],
   "source": [
    "sc = StandardScaler()\n",
    "X_train = sc.fit_transform(X_train)\n",
    "X_test = sc.transform(X_test)"
   ]
  },
  {
   "cell_type": "code",
   "execution_count": 58,
   "metadata": {},
   "outputs": [
    {
     "name": "stdout",
     "output_type": "stream",
     "text": [
      "Mean Absolute Error: 0.77575\n",
      "Mean Squared Error: 0.7962375\n",
      "Root Mean Squared Error: 0.8923214107035649\n"
     ]
    }
   ],
   "source": [
    "regressor = RandomForestRegressor(n_estimators=20, random_state=0)\n",
    "regressor.fit(X_train, y_train)\n",
    "y_pred = regressor.predict(X_test)\n",
    "\n",
    "print('Mean Absolute Error:', metrics.mean_absolute_error(y_test, y_pred))\n",
    "print('Mean Squared Error:', metrics.mean_squared_error(y_test, y_pred))\n",
    "print('Root Mean Squared Error:', np.sqrt(metrics.mean_squared_error(y_test, y_pred)))"
   ]
  }
 ],
 "metadata": {
  "kernelspec": {
   "display_name": "Python 3.10.4 64-bit",
   "language": "python",
   "name": "python3"
  },
  "language_info": {
   "codemirror_mode": {
    "name": "ipython",
    "version": 3
   },
   "file_extension": ".py",
   "mimetype": "text/x-python",
   "name": "python",
   "nbconvert_exporter": "python",
   "pygments_lexer": "ipython3",
   "version": "3.10.4"
  },
  "orig_nbformat": 4,
  "vscode": {
   "interpreter": {
    "hash": "26de051ba29f2982a8de78e945f0abaf191376122a1563185a90213a26c5da77"
   }
  }
 },
 "nbformat": 4,
 "nbformat_minor": 2
}
