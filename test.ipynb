{
 "cells": [
  {
   "cell_type": "code",
   "execution_count": 14,
   "metadata": {},
   "outputs": [],
   "source": [
    "import pandas as pd\n",
    "import numpy as np\n",
    "from sklearn.ensemble import RandomForestRegressor\n",
    "from sklearn.preprocessing import StandardScaler\n",
    "from sklearn.model_selection import train_test_split\n",
    "from sklearn.preprocessing import StandardScaler,LabelEncoder"
   ]
  },
  {
   "cell_type": "code",
   "execution_count": 15,
   "metadata": {},
   "outputs": [
    {
     "data": {
      "text/html": [
       "<div>\n",
       "<style scoped>\n",
       "    .dataframe tbody tr th:only-of-type {\n",
       "        vertical-align: middle;\n",
       "    }\n",
       "\n",
       "    .dataframe tbody tr th {\n",
       "        vertical-align: top;\n",
       "    }\n",
       "\n",
       "    .dataframe thead th {\n",
       "        text-align: right;\n",
       "    }\n",
       "</style>\n",
       "<table border=\"1\" class=\"dataframe\">\n",
       "  <thead>\n",
       "    <tr style=\"text-align: right;\">\n",
       "      <th></th>\n",
       "      <th>Col1</th>\n",
       "      <th>Col2</th>\n",
       "      <th>Col3</th>\n",
       "      <th>Col4</th>\n",
       "      <th>Col5</th>\n",
       "      <th>Col6</th>\n",
       "      <th>Class</th>\n",
       "    </tr>\n",
       "  </thead>\n",
       "  <tbody>\n",
       "    <tr>\n",
       "      <th>0</th>\n",
       "      <td>6</td>\n",
       "      <td>Chevrolet</td>\n",
       "      <td>31</td>\n",
       "      <td>Male</td>\n",
       "      <td>679</td>\n",
       "      <td>76960</td>\n",
       "      <td>Rich</td>\n",
       "    </tr>\n",
       "    <tr>\n",
       "      <th>1</th>\n",
       "      <td>8</td>\n",
       "      <td>BMW</td>\n",
       "      <td>51</td>\n",
       "      <td>Male</td>\n",
       "      <td>883</td>\n",
       "      <td>89304</td>\n",
       "      <td>Rich</td>\n",
       "    </tr>\n",
       "    <tr>\n",
       "      <th>2</th>\n",
       "      <td>7</td>\n",
       "      <td>Honda</td>\n",
       "      <td>45</td>\n",
       "      <td>Male</td>\n",
       "      <td>911</td>\n",
       "      <td>77018</td>\n",
       "      <td>Upper Middle Class</td>\n",
       "    </tr>\n",
       "    <tr>\n",
       "      <th>3</th>\n",
       "      <td>8</td>\n",
       "      <td>BMW</td>\n",
       "      <td>59</td>\n",
       "      <td>Female</td>\n",
       "      <td>1675</td>\n",
       "      <td>26160</td>\n",
       "      <td>Middle Class</td>\n",
       "    </tr>\n",
       "    <tr>\n",
       "      <th>4</th>\n",
       "      <td>10</td>\n",
       "      <td>Chevrolet</td>\n",
       "      <td>44</td>\n",
       "      <td>Male</td>\n",
       "      <td>1040</td>\n",
       "      <td>82055</td>\n",
       "      <td>Middle Class</td>\n",
       "    </tr>\n",
       "    <tr>\n",
       "      <th>5</th>\n",
       "      <td>4</td>\n",
       "      <td>Honda</td>\n",
       "      <td>19</td>\n",
       "      <td>Female</td>\n",
       "      <td>861</td>\n",
       "      <td>20755</td>\n",
       "      <td>Middle Class</td>\n",
       "    </tr>\n",
       "    <tr>\n",
       "      <th>6</th>\n",
       "      <td>10</td>\n",
       "      <td>Toyota</td>\n",
       "      <td>45</td>\n",
       "      <td>Male</td>\n",
       "      <td>1393</td>\n",
       "      <td>83281</td>\n",
       "      <td>Upper Middle Class</td>\n",
       "    </tr>\n",
       "    <tr>\n",
       "      <th>7</th>\n",
       "      <td>6</td>\n",
       "      <td>Honda</td>\n",
       "      <td>37</td>\n",
       "      <td>Female</td>\n",
       "      <td>1159</td>\n",
       "      <td>39451</td>\n",
       "      <td>Rich</td>\n",
       "    </tr>\n",
       "    <tr>\n",
       "      <th>8</th>\n",
       "      <td>4</td>\n",
       "      <td>Honda</td>\n",
       "      <td>81</td>\n",
       "      <td>Male</td>\n",
       "      <td>789</td>\n",
       "      <td>87498</td>\n",
       "      <td>Upper Middle Class</td>\n",
       "    </tr>\n",
       "    <tr>\n",
       "      <th>9</th>\n",
       "      <td>10</td>\n",
       "      <td>Toyota</td>\n",
       "      <td>39</td>\n",
       "      <td>Female</td>\n",
       "      <td>1794</td>\n",
       "      <td>62164</td>\n",
       "      <td>Upper Middle Class</td>\n",
       "    </tr>\n",
       "  </tbody>\n",
       "</table>\n",
       "</div>"
      ],
      "text/plain": [
       "   Col1       Col2  Col3    Col4  Col5   Col6               Class\n",
       "0     6  Chevrolet    31    Male   679  76960                Rich\n",
       "1     8        BMW    51    Male   883  89304                Rich\n",
       "2     7      Honda    45    Male   911  77018  Upper Middle Class\n",
       "3     8        BMW    59  Female  1675  26160        Middle Class\n",
       "4    10  Chevrolet    44    Male  1040  82055        Middle Class\n",
       "5     4      Honda    19  Female   861  20755        Middle Class\n",
       "6    10     Toyota    45    Male  1393  83281  Upper Middle Class\n",
       "7     6      Honda    37  Female  1159  39451                Rich\n",
       "8     4      Honda    81    Male   789  87498  Upper Middle Class\n",
       "9    10     Toyota    39  Female  1794  62164  Upper Middle Class"
      ]
     },
     "execution_count": 15,
     "metadata": {},
     "output_type": "execute_result"
    }
   ],
   "source": [
    "dataset = pd.read_csv('dataset2.csv')\n",
    "dataset.head(10)"
   ]
  },
  {
   "cell_type": "code",
   "execution_count": 16,
   "metadata": {},
   "outputs": [],
   "source": [
    "X = dataset.iloc[:,:6].values\n",
    "y = dataset.iloc[:,6].values"
   ]
  },
  {
   "cell_type": "code",
   "execution_count": 17,
   "metadata": {},
   "outputs": [
    {
     "ename": "AttributeError",
     "evalue": "'numpy.ndarray' object has no attribute 'iloc'",
     "output_type": "error",
     "traceback": [
      "\u001b[1;31m---------------------------------------------------------------------------\u001b[0m",
      "\u001b[1;31mAttributeError\u001b[0m                            Traceback (most recent call last)",
      "Cell \u001b[1;32mIn [17], line 2\u001b[0m\n\u001b[0;32m      1\u001b[0m labelencoder_X\u001b[39m=\u001b[39mLabelEncoder()\n\u001b[1;32m----> 2\u001b[0m z \u001b[39m=\u001b[39m X\u001b[39m.\u001b[39;49miloc[:,\u001b[39m1\u001b[39m:\u001b[39m2\u001b[39m]  \n\u001b[0;32m      3\u001b[0m X\u001b[39m.\u001b[39miloc[:,\u001b[39m1\u001b[39m:\u001b[39m2\u001b[39m] \u001b[39m=\u001b[39m labelencoder_X\u001b[39m.\u001b[39mfit_transform(z\u001b[39m.\u001b[39mvalues\u001b[39m.\u001b[39mravel())\n",
      "\u001b[1;31mAttributeError\u001b[0m: 'numpy.ndarray' object has no attribute 'iloc'"
     ]
    }
   ],
   "source": [
    "labelencoder_X=LabelEncoder()\n",
    "z = X.iloc[:,1:2]  \n",
    "X.iloc[:,1:2] = labelencoder_X.fit_transform(z.values.ravel())"
   ]
  }
 ],
 "metadata": {
  "kernelspec": {
   "display_name": "Python 3.10.4 64-bit",
   "language": "python",
   "name": "python3"
  },
  "language_info": {
   "codemirror_mode": {
    "name": "ipython",
    "version": 3
   },
   "file_extension": ".py",
   "mimetype": "text/x-python",
   "name": "python",
   "nbconvert_exporter": "python",
   "pygments_lexer": "ipython3",
   "version": "3.10.4"
  },
  "orig_nbformat": 4,
  "vscode": {
   "interpreter": {
    "hash": "26de051ba29f2982a8de78e945f0abaf191376122a1563185a90213a26c5da77"
   }
  }
 },
 "nbformat": 4,
 "nbformat_minor": 2
}
