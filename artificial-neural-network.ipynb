{
 "cells": [
  {
   "cell_type": "code",
   "execution_count": null,
   "metadata": {
    "collapsed": true
   },
   "outputs": [],
   "source": [
    "import pandas as pd\n",
    "import numpy as np\n",
    "from sklearn.preprocessing import LabelEncoder, StandardScaler\n",
    "from sklearn.model_selection import train_test_split\n",
    "from keras.models import Sequential\n",
    "from keras.layers import Dense\n",
    "from sklearn.metrics import confusion_matrix\n",
    "from sklearn.preprocessing import OneHotEncoder\n",
    "\n",
    "# load the boston dataset\n",
    "dataframe =  pd.read_csv('/content/penguins_size.csv')\n",
    "\n",
    "# defining feature matrix(X) and response vector(y)\n",
    "X = dataframe.iloc[:,:-1]\n",
    "y = dataframe.iloc[:,-1:]\n",
    "\n",
    "\n",
    "#convert categorical to numeric\n",
    "labelencoder_X=LabelEncoder()\n",
    "z = X.iloc[:,-1:]\n",
    "X.iloc[:,-1:] = labelencoder_X.fit_transform(z.values.ravel())\n",
    "\n",
    "#convert categorical to numeric\n",
    "labelencoder_X=LabelEncoder()\n",
    "z = X.iloc[:,0]\n",
    "X.iloc[:,0] = labelencoder_X.fit_transform(z.values.ravel())\n",
    "\n",
    "\n",
    "#z score normalization\n",
    "scaller = StandardScaler()\n",
    "X = scaller.fit_transform(X)\n",
    "\n",
    "\n",
    "# encode class values as integers\n",
    "encoder = LabelEncoder()\n",
    "encoder.fit(y)\n",
    "y = encoder.transform(y)\n",
    "\n",
    "\n",
    "# splitting X and y into training and testing sets\n",
    "X_train, X_test, y_train, y_test = train_test_split(X, y, test_size=0.4, random_state=1)\n",
    "\n",
    "from keras.utils import np_utils\n",
    "# convert integers to dummy variables (i.e. one hot encoded)\n",
    "y_train = np_utils.to_categorical(y_train)\n",
    "\n",
    "\n",
    "#print(X_train.shape)\n",
    "#print(y_train)\n",
    "#print(y_test)\n",
    "\n",
    "\n",
    "# define the keras model\n",
    "model = Sequential()\n",
    "model.add(Dense(6, input_dim=6, activation='relu'))\n",
    "model.add(Dense(4, activation='relu'))\n",
    "model.add(Dense(3, activation='softmax'))\n",
    "\n",
    "# compile the keras model\n",
    "model.compile(loss='categorical_crossentropy', optimizer='adam', metrics=['accuracy'])\n",
    "\n",
    "\n",
    "# fit the keras model on the dataset\n",
    "model.fit(X_train, y_train, epochs=100, batch_size=10)\n",
    "\n",
    "acc = model.evaluate(X_train, y_train)\n",
    "print(\"Loss:\", acc[0], \" Accuracy:\", acc[1])\n",
    "\n",
    "pred = model.predict(X_test)\n",
    "pred_y = pred.argmax(axis=-1)\n",
    "\n",
    "#count_class(train_label)\n",
    "\n",
    "#print(y_test)\n",
    "#print(pred)\n",
    "\n",
    "cm = confusion_matrix(y_test, pred_y)\n",
    "print(cm)\n",
    "\n",
    "# make class predictions with the model\n",
    "predictions = (model.predict(X_test) > 0.5).astype(int)\n",
    "# prdiction for test data\n",
    "print(predictions)"
   ]
  },
  {
   "cell_type": "code",
   "execution_count": null,
   "metadata": {
    "collapsed": false
   },
   "outputs": [],
   "source": []
  },
  {
   "cell_type": "code",
   "execution_count": null,
   "metadata": {
    "collapsed": false
   },
   "outputs": [],
   "source": []
  },
  {
   "cell_type": "code",
   "execution_count": null,
   "metadata": {
    "collapsed": false
   },
   "outputs": [],
   "source": []
  }
 ],
 "metadata": {
  "kernelspec": {
   "display_name": "Python 3.10.4 64-bit",
   "language": "python",
   "name": "python3"
  },
  "language_info": {
   "codemirror_mode": {
    "name": "ipython",
    "version": 3
   },
   "file_extension": ".py",
   "mimetype": "text/x-python",
   "name": "python",
   "nbconvert_exporter": "python",
   "pygments_lexer": "ipython3",
   "version": "3.10.4"
  },
  "vscode": {
   "interpreter": {
    "hash": "26de051ba29f2982a8de78e945f0abaf191376122a1563185a90213a26c5da77"
   }
  }
 },
 "nbformat": 4,
 "nbformat_minor": 0
}
